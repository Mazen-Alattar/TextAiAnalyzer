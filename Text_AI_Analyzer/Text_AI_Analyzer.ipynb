{
 "cells": [
  {
   "cell_type": "code",
   "execution_count": 1,
   "id": "1439f65a",
   "metadata": {
    "ExecuteTime": {
     "end_time": "2025-01-25T17:45:38.338105Z",
     "start_time": "2025-01-25T17:45:32.071350Z"
    }
   },
   "outputs": [],
   "source": [
    "import uvicorn\n",
    "from fastapi import FastAPI\n",
    "from fastapi.middleware.cors import CORSMiddleware\n",
    "from pydantic import BaseModel\n",
    "import spacy\n",
    "import textstat\n",
    "from typing import List, Dict\n",
    "import nest_asyncio"
   ]
  },
  {
   "cell_type": "code",
   "execution_count": 2,
   "id": "692cd81e",
   "metadata": {
    "ExecuteTime": {
     "end_time": "2025-01-25T17:45:38.354278Z",
     "start_time": "2025-01-25T17:45:38.342714Z"
    }
   },
   "outputs": [],
   "source": [
    "simple_replacements = {\n",
    "    # Commonly used words\n",
    "    \"utilize\": \"use\",\n",
    "    \"commence\": \"start\",\n",
    "    \"terminate\": \"end\",\n",
    "    \"ascertain\": \"find out\",\n",
    "    \"endeavor\": \"try\",\n",
    "    \"comprehend\": \"understand\",\n",
    "    \"facilitate\": \"help\",\n",
    "    \"subsequent\": \"next\",\n",
    "    \"prior\": \"before\",\n",
    "\n",
    "    # Business and formal terms\n",
    "    \"accomplish\": \"do\",\n",
    "    \"advantageous\": \"helpful\",\n",
    "    \"adjacent\": \"next to\",\n",
    "    \"allocate\": \"give\",\n",
    "    \"ameliorate\": \"improve\",\n",
    "    \"authorize\": \"allow\",\n",
    "    \"collaborate\": \"work together\",\n",
    "    \"commence\": \"begin\",\n",
    "    \"constitutes\": \"is\",\n",
    "    \"demonstrate\": \"show\",\n",
    "    \"endeavor\": \"attempt\",\n",
    "    \"expedite\": \"speed up\",\n",
    "    \"implement\": \"carry out\",\n",
    "    \"indicate\": \"show\",\n",
    "    \"necessitate\": \"need\",\n",
    "    \"procure\": \"get\",\n",
    "    \"proficient\": \"skilled\",\n",
    "    \"remuneration\": \"payment\",\n",
    "    \"substantial\": \"large\",\n",
    "    \"terminate\": \"stop\",\n",
    "    \"validate\": \"confirm\",\n",
    "\n",
    "    # Academic terms\n",
    "    \"abbreviate\": \"shorten\",\n",
    "    \"advocate\": \"support\",\n",
    "    \"analyze\": \"study\",\n",
    "    \"approximate\": \"almost\",\n",
    "    \"articulate\": \"express\",\n",
    "    \"categorize\": \"sort\",\n",
    "    \"collate\": \"gather\",\n",
    "    \"corroborate\": \"confirm\",\n",
    "    \"elucidate\": \"explain\",\n",
    "    \"enumerate\": \"list\",\n",
    "    \"extrapolate\": \"guess\",\n",
    "    \"facilitate\": \"help\",\n",
    "    \"formulate\": \"create\",\n",
    "    \"illustrate\": \"show\",\n",
    "    \"implement\": \"do\",\n",
    "    \"inquire\": \"ask\",\n",
    "    \"interpret\": \"explain\",\n",
    "    \"justify\": \"prove\",\n",
    "    \"modify\": \"change\",\n",
    "    \"subsequent\": \"later\",\n",
    "    \"synthesize\": \"combine\",\n",
    "\n",
    "    # Technical and scientific terms\n",
    "    \"accelerate\": \"speed up\",\n",
    "    \"accumulate\": \"gather\",\n",
    "    \"adhere\": \"stick\",\n",
    "    \"amplify\": \"increase\",\n",
    "    \"compute\": \"calculate\",\n",
    "    \"conceive\": \"imagine\",\n",
    "    \"conduct\": \"carry out\",\n",
    "    \"detect\": \"find\",\n",
    "    \"disperse\": \"spread\",\n",
    "    \"emit\": \"send out\",\n",
    "    \"evaluate\": \"judge\",\n",
    "    \"fluctuate\": \"change\",\n",
    "    \"generate\": \"make\",\n",
    "    \"illustrate\": \"show\",\n",
    "    \"integrate\": \"combine\",\n",
    "    \"isolate\": \"separate\",\n",
    "    \"maximize\": \"increase\",\n",
    "    \"minimize\": \"reduce\",\n",
    "    \"optimize\": \"improve\",\n",
    "    \"regulate\": \"control\",\n",
    "    \"sustain\": \"maintain\",\n",
    "    \"transmit\": \"send\",\n",
    "\n",
    "    # Everyday terms\n",
    "    \"commonly\": \"often\",\n",
    "    \"endeavor\": \"try\",\n",
    "    \"individual\": \"person\",\n",
    "    \"necessitate\": \"require\",\n",
    "    \"obtain\": \"get\",\n",
    "    \"perceive\": \"see\",\n",
    "    \"predominantly\": \"mostly\",\n",
    "    \"substantial\": \"big\",\n",
    "    \"sufficient\": \"enough\",\n",
    "    \"transform\": \"change\",\n",
    "    \"verify\": \"check\",\n",
    "}\n"
   ]
  },
  {
   "cell_type": "code",
   "execution_count": 3,
   "id": "6266daee",
   "metadata": {
    "ExecuteTime": {
     "end_time": "2025-01-25T17:45:39.245561Z",
     "start_time": "2025-01-25T17:45:38.357844Z"
    }
   },
   "outputs": [],
   "source": [
    "nlp = spacy.load('en_core_web_sm')"
   ]
  },
  {
   "cell_type": "code",
   "execution_count": 4,
   "id": "e1c80936",
   "metadata": {
    "ExecuteTime": {
     "end_time": "2025-01-25T17:45:39.253241Z",
     "start_time": "2025-01-25T17:45:39.247613Z"
    }
   },
   "outputs": [],
   "source": [
    "nest_asyncio.apply()\n",
    "\n",
    "# Initialize the FastAPI app\n",
    "app = FastAPI()\n",
    "\n",
    "# Enable CORS\n",
    "app.add_middleware(\n",
    "    CORSMiddleware,\n",
    "    allow_origins=[\"*\"],  # Allow all origins for testing\n",
    "    allow_credentials=True,\n",
    "    allow_methods=[\"*\"],\n",
    "    allow_headers=[\"*\"],\n",
    ")"
   ]
  },
  {
   "cell_type": "code",
   "execution_count": 5,
   "id": "69c309a3",
   "metadata": {
    "ExecuteTime": {
     "end_time": "2025-01-25T17:45:39.269378Z",
     "start_time": "2025-01-25T17:45:39.255398Z"
    }
   },
   "outputs": [],
   "source": [
    "class TextInput(BaseModel):\n",
    "    text: str\n",
    "\n",
    "# Function to suggest simpler words\n",
    "def suggest_simpler_words(text: str) -> List[Dict[str, str]]:\n",
    "    doc = nlp(text)\n",
    "    suggestions = []\n",
    "    for token in doc:\n",
    "        if token.text.lower() in simple_replacements:\n",
    "            suggestions.append({\n",
    "                \"original\": token.text,\n",
    "                \"replacement\": simple_replacements[token.text.lower()]\n",
    "            })\n",
    "    return suggestions\n",
    "\n",
    "# Function to calculate readability\n",
    "def calculate_readability(text: str):\n",
    "    return textstat.flesch_reading_ease(text)\n",
    "\n",
    "# Function to simplify text\n",
    "def simplify_text(text: str):\n",
    "    doc = nlp(text)\n",
    "    simplified_tokens = []\n",
    "    for token in doc:\n",
    "        if token.text.lower() in simple_replacements:\n",
    "            simplified_tokens.append(simple_replacements[token.text.lower()])\n",
    "        else:\n",
    "            simplified_tokens.append(token.text)\n",
    "    return \" \".join(simplified_tokens)"
   ]
  },
  {
   "cell_type": "code",
   "execution_count": null,
   "id": "706e0b82",
   "metadata": {
    "ExecuteTime": {
     "start_time": "2025-01-25T17:45:32.763Z"
    }
   },
   "outputs": [
    {
     "name": "stderr",
     "output_type": "stream",
     "text": [
      "INFO:     Started server process [1284]\n",
      "INFO:     Waiting for application startup.\n",
      "INFO:     Application startup complete.\n",
      "INFO:     Uvicorn running on http://0.0.0.0:8000 (Press CTRL+C to quit)\n"
     ]
    },
    {
     "name": "stdout",
     "output_type": "stream",
     "text": [
      "INFO:     41.43.105.60:0 - \"OPTIONS / HTTP/1.1\" 200 OK\n",
      "INFO:     41.43.105.60:0 - \"POST / HTTP/1.1\" 200 OK\n",
      "INFO:     156.195.167.184:0 - \"OPTIONS / HTTP/1.1\" 200 OK\n",
      "INFO:     156.195.167.184:0 - \"POST / HTTP/1.1\" 200 OK\n"
     ]
    }
   ],
   "source": [
    "# Define the POST endpoint\n",
    "@app.post(\"/\")\n",
    "def analyze_text(input: TextInput):\n",
    "    text = input.text\n",
    "    doc = nlp(text)\n",
    "\n",
    "    word_count = len([token for token in doc if token.is_alpha])\n",
    "    char_count_without_spaces = len(text.replace(\" \", \"\"))\n",
    "    sentence_count = len(list(doc.sents))\n",
    "    paragraphs = [p.strip() for p in text.split(\"\\n\") if p.strip()]\n",
    "    paragraph_count = len(paragraphs)\n",
    "    reading_time_minutes = word_count / 200\n",
    "    readability_score = calculate_readability(text)\n",
    "    suggestions = suggest_simpler_words(text)\n",
    "    simplified_text = simplify_text(text)\n",
    "    simplified_readability = calculate_readability(simplified_text)\n",
    "\n",
    "    return {\n",
    "        \"word_count\": word_count,\n",
    "        \"char_count_without_spaces\": char_count_without_spaces,\n",
    "        \"sentence_count\": sentence_count,\n",
    "        \"paragraph_count\": paragraph_count,\n",
    "        \"reading_time_minutes\": round(reading_time_minutes, 2),\n",
    "        \"readability_score\": readability_score,\n",
    "        \"suggestions\": suggestions,\n",
    "        \"simplified_text\": simplified_text,\n",
    "        \"simplified_readability\":simplified_readability\n",
    "    }\n",
    "\n",
    "# Define the GET endpoint\n",
    "@app.get(\"/\")\n",
    "def read_root():\n",
    "    return {\"message\": \"Welcome to the Text Analysis API!\"}\n",
    "\n",
    "# Function to run the FastAPI server\n",
    "def run_app():\n",
    "    uvicorn.run(app, host=\"0.0.0.0\", port=8000)\n",
    "\n",
    "# Start the FastAPI server\n",
    "run_app()"
   ]
  }
 ],
 "metadata": {
  "kernelspec": {
   "display_name": "Python 3 (ipykernel)",
   "language": "python",
   "name": "python3"
  },
  "language_info": {
   "codemirror_mode": {
    "name": "ipython",
    "version": 3
   },
   "file_extension": ".py",
   "mimetype": "text/x-python",
   "name": "python",
   "nbconvert_exporter": "python",
   "pygments_lexer": "ipython3",
   "version": "3.11.5"
  }
 },
 "nbformat": 4,
 "nbformat_minor": 5
}
